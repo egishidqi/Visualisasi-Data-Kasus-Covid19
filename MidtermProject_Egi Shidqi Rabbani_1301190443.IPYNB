{
 "cells": [
  {
   "cell_type": "markdown",
   "metadata": {},
   "source": [
    "Import Modules"
   ]
  },
  {
   "cell_type": "code",
   "execution_count": 1,
   "metadata": {},
   "outputs": [],
   "source": [
    "import numpy as py\n",
    "import pandas as pd\n",
    "import matplotlib.pyplot as plt\n",
    "import seaborn as sb"
   ]
  },
  {
   "cell_type": "markdown",
   "metadata": {},
   "source": [
    "Read CSV files (Data Set 1)"
   ]
  },
  {
   "cell_type": "code",
   "execution_count": 2,
   "metadata": {},
   "outputs": [
    {
     "name": "stdout",
     "output_type": "stream",
     "text": [
      "         date  new_tested  acc_tested  new_confirmed  acc_confirmed  \\\n",
      "0   02-Mar-20         339         339              2              2   \n",
      "1   03-Mar-20           2         341              0              2   \n",
      "2   04-Mar-20          31         372              0              2   \n",
      "3   05-Mar-20          16         388              0              2   \n",
      "4   06-Mar-20          62         450              2              4   \n",
      "5   07-Mar-20           4         454              0              4   \n",
      "6   08-Mar-20          29         483              2              6   \n",
      "7   09-Mar-20          60         543             13             19   \n",
      "8   10-Mar-20         151         694              8             27   \n",
      "9   11-Mar-20          99         793              7             34   \n",
      "10  12-Mar-20          69         862              0             34   \n",
      "11  13-Mar-20         143        1005             35             69   \n",
      "12  14-Mar-20         200        1205             27             96   \n",
      "13  15-Mar-20          88        1293             21            117   \n",
      "14  16-Mar-20          37        1330             17            134   \n",
      "15  17-Mar-20         142        1372             38            172   \n",
      "16  18-Mar-20         220        1592             55            227   \n",
      "17  19-Mar-20         306        1651             82            309   \n",
      "18  20-Mar-20         130        2028             60            369   \n",
      "19  21-Mar-20         337        2365             81            450   \n",
      "20  22-Mar-20          73        2438             64            514   \n",
      "21  23-Mar-20         318        2756             65            579   \n",
      "22  24-Mar-20         576        3332            106            685   \n",
      "23  25-Mar-20         490        3822            105            790   \n",
      "24  26-Mar-20         514        4336            103            893   \n",
      "25  27-Mar-20        1439        5775            153           1046   \n",
      "26  28-Mar-20         491        6266            109           1155   \n",
      "27  29-Mar-20         268        6534            130           1285   \n",
      "28  30-Mar-20         129        6663            129           1414   \n",
      "29  31-Mar-20         114        6777            114           1528   \n",
      "\n",
      "    acc_negative  being_checked  isolated  \n",
      "0            335              2         2  \n",
      "1            337              2         2  \n",
      "2            356             14         2  \n",
      "3            371             15         2  \n",
      "4            422             24         4  \n",
      "5            422             28         4  \n",
      "6            445             32         6  \n",
      "7            487             37        19  \n",
      "8            648             19        27  \n",
      "9            744             15        30  \n",
      "10           811             17        27  \n",
      "11           917             19        60  \n",
      "12          1109              0        83  \n",
      "13          1167              9       104  \n",
      "14          1183             13       121  \n",
      "15          1278             22       156  \n",
      "16          1342             23       197  \n",
      "17          1570             19       269  \n",
      "18          1643             18       321  \n",
      "19          1895             20       392  \n",
      "20          1904             20       437  \n",
      "21          2177              0       500  \n",
      "22          2625             22       600  \n",
      "23          3032              0       701  \n",
      "24          3443              0       780  \n",
      "25          4729              0       913  \n",
      "26          5111              0       994  \n",
      "27          5249              0      1107  \n",
      "28          5249              0      1217  \n",
      "29          5249              0      1311  \n"
     ]
    }
   ],
   "source": [
    "df = pd.read_csv('Data Set 1.csv')\n",
    "print(df)"
   ]
  },
  {
   "cell_type": "markdown",
   "metadata": {},
   "source": [
    "Soal 1:\n",
    "Dengan menggunakan line plot, tampilkan perbandingan jumlah akumulatif tes sampel, terkonfirmasi positif dan terkonfirmasi negatif untuk periode waktu yang tersedia."
   ]
  },
  {
   "cell_type": "code",
   "execution_count": 3,
   "metadata": {},
   "outputs": [],
   "source": [
    "dataset1 = df.iloc[:,[0,2,4,5]]"
   ]
  },
  {
   "cell_type": "code",
   "execution_count": 4,
   "metadata": {},
   "outputs": [
    {
     "name": "stdout",
     "output_type": "stream",
     "text": [
      "           acc_tested  acc_confirmed  acc_negative\n",
      "date                                              \n",
      "02-Mar-20         339              2           335\n",
      "03-Mar-20         341              2           337\n",
      "04-Mar-20         372              2           356\n",
      "05-Mar-20         388              2           371\n",
      "06-Mar-20         450              4           422\n",
      "07-Mar-20         454              4           422\n",
      "08-Mar-20         483              6           445\n",
      "09-Mar-20         543             19           487\n",
      "10-Mar-20         694             27           648\n",
      "11-Mar-20         793             34           744\n",
      "12-Mar-20         862             34           811\n",
      "13-Mar-20        1005             69           917\n",
      "14-Mar-20        1205             96          1109\n",
      "15-Mar-20        1293            117          1167\n",
      "16-Mar-20        1330            134          1183\n",
      "17-Mar-20        1372            172          1278\n",
      "18-Mar-20        1592            227          1342\n",
      "19-Mar-20        1651            309          1570\n",
      "20-Mar-20        2028            369          1643\n",
      "21-Mar-20        2365            450          1895\n",
      "22-Mar-20        2438            514          1904\n",
      "23-Mar-20        2756            579          2177\n",
      "24-Mar-20        3332            685          2625\n",
      "25-Mar-20        3822            790          3032\n",
      "26-Mar-20        4336            893          3443\n",
      "27-Mar-20        5775           1046          4729\n",
      "28-Mar-20        6266           1155          5111\n",
      "29-Mar-20        6534           1285          5249\n",
      "30-Mar-20        6663           1414          5249\n",
      "31-Mar-20        6777           1528          5249\n"
     ]
    }
   ],
   "source": [
    "dataset1.set_index('date', inplace=True)\n",
    "print(dataset1)"
   ]
  },
  {
   "cell_type": "code",
   "execution_count": 5,
   "metadata": {},
   "outputs": [
    {
     "data": {
      "image/png": "[encoded data removed]",
      "text/plain": [
       "<Figure size 1440x504 with 1 Axes>"
      ]
     },
     "metadata": {
      "needs_background": "light"
     },
     "output_type": "display_data"
    }
   ],
   "source": [
    "plt.figure(figsize=(20,7))\n",
    "\n",
    "plt.title('Perbandingan Akumulasi Tes Sampel, Kasus Positif dan Kasus Negatif (2 Maret 2020 - 31 Maret 2020)')\n",
    "\n",
    "plt.plot(df.date, df.acc_tested,'b.-', label='Akumulasi Tes Sampel')\n",
    "plt.plot(df.date, df.acc_confirmed,'r.-', label='Akumulasi Kasus Positif')\n",
    "plt.plot(df.date, df.acc_negative,'g.-', label='Akumulasi Kasus Negatif')\n",
    "\n",
    "plt.xticks(df.date[::3].tolist()+['31-Mar-20'])\n",
    "\n",
    "plt.xlabel('Tanggal')\n",
    "plt.ylabel('Akumulasi')\n",
    "\n",
    "plt.legend()\n",
    "\n",
    "plt.show()"
   ]
  },
  {
   "cell_type": "markdown",
   "metadata": {},
   "source": [
    "Soal 2:\n",
    "• Hitunglah nilai positive rate dan negative rate untuk masing-masing waktu.\n",
    "• Dengan menggunakan bar plot, tampilkan perbandingan positivity rate dan \n",
    "  negativity rate untuk periode waktu yang tersedia.\n",
    "• Pada tanggal berapa nilai positive rate menunjukkan nilai tertinggi?\n",
    "• Pada tanggal berapa nilai negative rate menunjukkan nilai tertinggi?"
   ]
  },
  {
   "cell_type": "code",
   "execution_count": 6,
   "metadata": {},
   "outputs": [
    {
     "data": {
      "text/plain": [
       "date\n",
       "02-Mar-20     0.59\n",
       "03-Mar-20     0.59\n",
       "04-Mar-20     0.54\n",
       "05-Mar-20     0.52\n",
       "06-Mar-20     0.89\n",
       "07-Mar-20     0.88\n",
       "08-Mar-20     1.24\n",
       "09-Mar-20     3.50\n",
       "10-Mar-20     3.89\n",
       "11-Mar-20     4.29\n",
       "12-Mar-20     3.94\n",
       "13-Mar-20     6.87\n",
       "14-Mar-20     7.97\n",
       "15-Mar-20     9.05\n",
       "16-Mar-20    10.08\n",
       "17-Mar-20    12.54\n",
       "18-Mar-20    14.26\n",
       "19-Mar-20    18.72\n",
       "20-Mar-20    18.20\n",
       "21-Mar-20    19.03\n",
       "22-Mar-20    21.08\n",
       "23-Mar-20    21.01\n",
       "24-Mar-20    20.56\n",
       "25-Mar-20    20.67\n",
       "26-Mar-20    20.60\n",
       "27-Mar-20    18.11\n",
       "28-Mar-20    18.43\n",
       "29-Mar-20    19.67\n",
       "30-Mar-20    21.22\n",
       "31-Mar-20    22.55\n",
       "dtype: float64"
      ]
     },
     "execution_count": 6,
     "metadata": {},
     "output_type": "execute_result"
    }
   ],
   "source": [
    "#POSITIVE RATE\n",
    "jml_konf_positif = dataset1['acc_confirmed']\n",
    "jml_tes_sampel = dataset1['acc_tested']\n",
    "positive_rate = (jml_konf_positif/jml_tes_sampel).round(4)*100\n",
    "\n",
    "positive_rate"
   ]
  },
  {
   "cell_type": "code",
   "execution_count": 7,
   "metadata": {},
   "outputs": [
    {
     "data": {
      "text/plain": [
       "date\n",
       "02-Mar-20    98.82\n",
       "03-Mar-20    98.83\n",
       "04-Mar-20    95.70\n",
       "05-Mar-20    95.62\n",
       "06-Mar-20    93.78\n",
       "07-Mar-20    92.95\n",
       "08-Mar-20    92.13\n",
       "09-Mar-20    89.69\n",
       "10-Mar-20    93.37\n",
       "11-Mar-20    93.82\n",
       "12-Mar-20    94.08\n",
       "13-Mar-20    91.24\n",
       "14-Mar-20    92.03\n",
       "15-Mar-20    90.26\n",
       "16-Mar-20    88.95\n",
       "17-Mar-20    93.15\n",
       "18-Mar-20    84.30\n",
       "19-Mar-20    95.09\n",
       "20-Mar-20    81.02\n",
       "21-Mar-20    80.13\n",
       "22-Mar-20    78.10\n",
       "23-Mar-20    78.99\n",
       "24-Mar-20    78.78\n",
       "25-Mar-20    79.33\n",
       "26-Mar-20    79.40\n",
       "27-Mar-20    81.89\n",
       "28-Mar-20    81.57\n",
       "29-Mar-20    80.33\n",
       "30-Mar-20    78.78\n",
       "31-Mar-20    77.45\n",
       "dtype: float64"
      ]
     },
     "execution_count": 7,
     "metadata": {},
     "output_type": "execute_result"
    }
   ],
   "source": [
    "#NEGATIVE RATE\n",
    "jml_konf_negatif = dataset1['acc_negative']\n",
    "jml_tes_sampel = dataset1['acc_tested']\n",
    "negative_rate = (jml_konf_negatif/jml_tes_sampel).round(4)*100\n",
    "\n",
    "negative_rate"
   ]
  },
  {
   "cell_type": "code",
   "execution_count": 8,
   "metadata": {},
   "outputs": [
    {
     "data": {
      "image/png": "[encoded data removed]",
      "text/plain": [
       "<Figure size 1080x360 with 1 Axes>"
      ]
     },
     "metadata": {
      "needs_background": "light"
     },
     "output_type": "display_data"
    }
   ],
   "source": [
    "#PERBANDINGAN\n",
    "compare = pd.DataFrame({'Positivity Rate': positive_rate, 'Negativity Rate': negative_rate})\n",
    "compare.plot.bar(stacked = False, figsize = (15, 5))\n",
    "\n",
    "plt.title('Perbandingan Positivity Rate dan Negativity Rate COVID-19')\n",
    "plt.xlabel('Tanggal')\n",
    "plt.ylabel('Persentase')\n",
    "\n",
    "plt.show()"
   ]
  },
  {
   "cell_type": "code",
   "execution_count": 9,
   "metadata": {},
   "outputs": [
    {
     "name": "stdout",
     "output_type": "stream",
     "text": [
      " Positivity Rate Tertinggi \n",
      " Tanggal: 31-Mar-20 \n",
      " Positivity Rate: 22.55 \n",
      "\n",
      " Negativity Rate Tertinggi \n",
      " Tanggal: 03-Mar-20 \n",
      " Positivity Rate: 98.83\n"
     ]
    }
   ],
   "source": [
    "#Tanggal dengan positivity rate tertinggi\n",
    "print(' Positivity Rate Tertinggi \\n','Tanggal:',positive_rate.idxmax(),'\\n','Positivity Rate:', positive_rate.max(),'\\n')\n",
    "\n",
    "#Tanggal dengan negativity rate tertinggi\n",
    "print(' Negativity Rate Tertinggi \\n','Tanggal:',negative_rate.idxmax(),'\\n','Positivity Rate:', negative_rate.max())"
   ]
  },
  {
   "cell_type": "markdown",
   "metadata": {},
   "source": [
    "Soal 3:\n",
    "• Dengan menggunakan heatmap, tunjukkan korelasi antar variabel yang ada pada \n",
    "dataset.\n",
    "• Tentukan variabel-variabel yang memiliki nilai korelasi paling positif, dan berikan \n",
    "penjelasan terkait nilai korelasi tersebut.\n",
    "• Tentukan variabel-variabel yang memiliki nilai korelasi paling negatif, dan berikan \n",
    "penjelasan terkait nilai korelasi tersebut.\n"
   ]
  },
  {
   "cell_type": "code",
   "execution_count": 10,
   "metadata": {},
   "outputs": [
    {
     "data": {
      "image/png": "[encoded data removed]",
      "text/plain": [
       "<Figure size 1440x720 with 2 Axes>"
      ]
     },
     "metadata": {
      "needs_background": "light"
     },
     "output_type": "display_data"
    }
   ],
   "source": [
    "#HEATMAP KORELASI DATA\n",
    "data_corelation = df.corr()\n",
    "fig, ax = plt.subplots(figsize=(20,10))\n",
    "sb.heatmap(data_corelation,cmap='Blues',annot=True, linewidths = 0.1, square=True, annot_kws={\n",
    "    'fontsize': 13, 'fontweight': 'bold'\n",
    "})\n",
    "\n",
    "plt.title(\"Korelasi Data \")\n",
    "plt.show()"
   ]
  },
  {
   "cell_type": "code",
   "execution_count": 11,
   "metadata": {},
   "outputs": [
    {
     "data": {
      "text/html": [
       "<div>\n",
       "<style scoped>\n",
       "    .dataframe tbody tr th:only-of-type {\n",
       "        vertical-align: middle;\n",
       "    }\n",
       "\n",
       "    .dataframe tbody tr th {\n",
       "        vertical-align: top;\n",
       "    }\n",
       "\n",
       "    .dataframe thead th {\n",
       "        text-align: right;\n",
       "    }\n",
       "</style>\n",
       "<table border=\"1\" class=\"dataframe\">\n",
       "  <thead>\n",
       "    <tr style=\"text-align: right;\">\n",
       "      <th></th>\n",
       "      <th>new_tested</th>\n",
       "      <th>acc_tested</th>\n",
       "      <th>new_confirmed</th>\n",
       "      <th>acc_confirmed</th>\n",
       "      <th>acc_negative</th>\n",
       "      <th>being_checked</th>\n",
       "      <th>isolated</th>\n",
       "    </tr>\n",
       "  </thead>\n",
       "  <tbody>\n",
       "    <tr>\n",
       "      <th>new_tested</th>\n",
       "      <td>1.000000</td>\n",
       "      <td>0.529012</td>\n",
       "      <td>0.681682</td>\n",
       "      <td>0.488240</td>\n",
       "      <td>0.541540</td>\n",
       "      <td>-0.402717</td>\n",
       "      <td>0.494872</td>\n",
       "    </tr>\n",
       "    <tr>\n",
       "      <th>acc_tested</th>\n",
       "      <td>0.529012</td>\n",
       "      <td>1.000000</td>\n",
       "      <td>0.927075</td>\n",
       "      <td>0.992487</td>\n",
       "      <td>0.999088</td>\n",
       "      <td>-0.611367</td>\n",
       "      <td>0.992602</td>\n",
       "    </tr>\n",
       "    <tr>\n",
       "      <th>new_confirmed</th>\n",
       "      <td>0.681682</td>\n",
       "      <td>0.927075</td>\n",
       "      <td>1.000000</td>\n",
       "      <td>0.925703</td>\n",
       "      <td>0.929067</td>\n",
       "      <td>-0.504804</td>\n",
       "      <td>0.928491</td>\n",
       "    </tr>\n",
       "    <tr>\n",
       "      <th>acc_confirmed</th>\n",
       "      <td>0.488240</td>\n",
       "      <td>0.992487</td>\n",
       "      <td>0.925703</td>\n",
       "      <td>1.000000</td>\n",
       "      <td>0.987653</td>\n",
       "      <td>-0.599737</td>\n",
       "      <td>0.999920</td>\n",
       "    </tr>\n",
       "    <tr>\n",
       "      <th>acc_negative</th>\n",
       "      <td>0.541540</td>\n",
       "      <td>0.999088</td>\n",
       "      <td>0.929067</td>\n",
       "      <td>0.987653</td>\n",
       "      <td>1.000000</td>\n",
       "      <td>-0.613971</td>\n",
       "      <td>0.987858</td>\n",
       "    </tr>\n",
       "    <tr>\n",
       "      <th>being_checked</th>\n",
       "      <td>-0.402717</td>\n",
       "      <td>-0.611367</td>\n",
       "      <td>-0.504804</td>\n",
       "      <td>-0.599737</td>\n",
       "      <td>-0.613971</td>\n",
       "      <td>1.000000</td>\n",
       "      <td>-0.600341</td>\n",
       "    </tr>\n",
       "    <tr>\n",
       "      <th>isolated</th>\n",
       "      <td>0.494872</td>\n",
       "      <td>0.992602</td>\n",
       "      <td>0.928491</td>\n",
       "      <td>0.999920</td>\n",
       "      <td>0.987858</td>\n",
       "      <td>-0.600341</td>\n",
       "      <td>1.000000</td>\n",
       "    </tr>\n",
       "  </tbody>\n",
       "</table>\n",
       "</div>"
      ],
      "text/plain": [
       "               new_tested  acc_tested  new_confirmed  acc_confirmed  \\\n",
       "new_tested       1.000000    0.529012       0.681682       0.488240   \n",
       "acc_tested       0.529012    1.000000       0.927075       0.992487   \n",
       "new_confirmed    0.681682    0.927075       1.000000       0.925703   \n",
       "acc_confirmed    0.488240    0.992487       0.925703       1.000000   \n",
       "acc_negative     0.541540    0.999088       0.929067       0.987653   \n",
       "being_checked   -0.402717   -0.611367      -0.504804      -0.599737   \n",
       "isolated         0.494872    0.992602       0.928491       0.999920   \n",
       "\n",
       "               acc_negative  being_checked  isolated  \n",
       "new_tested         0.541540      -0.402717  0.494872  \n",
       "acc_tested         0.999088      -0.611367  0.992602  \n",
       "new_confirmed      0.929067      -0.504804  0.928491  \n",
       "acc_confirmed      0.987653      -0.599737  0.999920  \n",
       "acc_negative       1.000000      -0.613971  0.987858  \n",
       "being_checked     -0.613971       1.000000 -0.600341  \n",
       "isolated           0.987858      -0.600341  1.000000  "
      ]
     },
     "execution_count": 11,
     "metadata": {},
     "output_type": "execute_result"
    }
   ],
   "source": [
    "df.corr()"
   ]
  },
  {
   "attachments": {},
   "cell_type": "markdown",
   "metadata": {},
   "source": [
    "#VARIABEL DENGAN KORELASI TERPOSITIF\n",
    "Variabel dengan korelasi terpositif adalah 'acc_confirmed' dengan 'isolated'. Dapat dilihat pada tabel korelasi bahwa nilai korelasi\n",
    "'acc_confirmed' dengan 'isolated' adalah 0.999920. Hal ini berarti kedua variabel tersebut memiliki hubungan yang erat, semakin besar nilai\n",
    "salah satu variabel maka nilai variabel yang lain akan semakin besar juga, sehingga menghasilkan nilai korelasi yang tinggi.\n",
    "\n",
    "\n",
    "#VARIABEL DENGAN KORELASI TERNEGATIF\n",
    "Variabel dengan korelasi ternegatif adalah 'acc_negative' dengan 'being_cheked'. Dapat dilihat pada tabel korelasi bahwa nilai korelasi\n",
    "'acc_negative' dengan 'being_checked' adalah -0.613971. Hal ini berarti kedua variabel tersebut tidak memiliki hubungan yang erat, semakin\n",
    "besar nilai salah satu variable akan menyebabkan semakin kecilnya variabel yang lain, sehingga menghasilkan nilai korelasi yang rendah."
   ]
  },
  {
   "cell_type": "markdown",
   "metadata": {},
   "source": [
    "Read CSV File (Data Set 2)"
   ]
  },
  {
   "cell_type": "code",
   "execution_count": 13,
   "metadata": {},
   "outputs": [
    {
     "name": "stdout",
     "output_type": "stream",
     "text": [
      "    province_id              province_name                   island iso_code  \\\n",
      "0             1                       Aceh                  Sumatra       AC   \n",
      "1             2                       Bali  Kepulauan Nusa Tenggara       BA   \n",
      "2             3                     Banten                     Jawa       BT   \n",
      "3             4                   Bengkulu                  Sumatra       BE   \n",
      "4             5              DI Yogyakarta                     Jawa       YO   \n",
      "5             6                DKI Jakarta                     Jawa       JK   \n",
      "6             7                  Gorontalo                 Sulawesi       GO   \n",
      "7             8                      Jambi                  Sumatra       JA   \n",
      "8             9                 Jawa Barat                     Jawa       JB   \n",
      "9            10                Jawa Tengah                     Jawa       JT   \n",
      "10           11                 Jawa Timur                     Jawa       JI   \n",
      "11           12           Kalimantan Barat               Kalimantan       KB   \n",
      "12           13         Kalimantan Selatan               Kalimantan       KS   \n",
      "13           14          Kalimantan Tengah               Kalimantan       KT   \n",
      "14           15           Kalimantan Timur               Kalimantan       KI   \n",
      "15           16           Kalimantan Utara               Kalimantan       KU   \n",
      "16           17  Kepulauan Bangka Belitung                  Sumatra       BB   \n",
      "17           18             Kepulauan Riau                  Sumatra       KR   \n",
      "18           19                    Lampung                  Sumatra       LA   \n",
      "19           20                     Maluku         Kepulauan Maluku       MA   \n",
      "20           21               Maluku Utara         Kepulauan Maluku       MU   \n",
      "21           22        Nusa Tenggara Barat  Kepulauan Nusa Tenggara       NB   \n",
      "22           23        Nusa Tenggara Timur  Kepulauan Nusa Tenggara       NT   \n",
      "23           24                      Papua                    Papua       PA   \n",
      "24           25                Papua Barat                    Papua       PB   \n",
      "25           26                       Riau                  Sumatra       RI   \n",
      "26           27             Sulawesi Barat                 Sulawesi       SR   \n",
      "27           28           Sulawesi Selatan                 Sulawesi       SN   \n",
      "28           29            Sulawesi Tengah                 Sulawesi       ST   \n",
      "29           30          Sulawesi Tenggara                 Sulawesi       SG   \n",
      "30           31             Sulawesi Utara                 Sulawesi       SA   \n",
      "31           32              Sumatra Barat                  Sumatra       SB   \n",
      "32           33            Sumatra Selatan                  Sumatra       SS   \n",
      "33           34              Sumatra Utara                  Sumatra       SU   \n",
      "\n",
      "      capital_city  population  population_kmsquare  confirmed  deceased  \\\n",
      "0       Banda Aceh     4906835                   86          4         0   \n",
      "1         Denpasar     4104900                  738          9         2   \n",
      "2           Serang    11704877                 1298         84         4   \n",
      "3         Bengkulu     1844800                   93          0         0   \n",
      "4       Yogyakarta     3553100                 1134         22         2   \n",
      "5          Jakarta    10012271                 1353        598        51   \n",
      "6        Gorontalo     1115633                   93          0         0   \n",
      "7            Jambi     3344400                   63          1         0   \n",
      "8          Bandung    46029668                 1306         98        14   \n",
      "9         Semarang    33522663                  986         43         6   \n",
      "10        Surabaya    38610202                  806         66         4   \n",
      "11       Pontianak     4716093                   41          4         0   \n",
      "12     Banjarmasin     3922790                  107          1         0   \n",
      "13   Palangka Raya     2439858                   16          6         0   \n",
      "14       Samarinda     3351432                   17         11         0   \n",
      "15   Tanjung Selor      618384                    9          0         0   \n",
      "16   Pangkalpinang     1343900                   82          0         0   \n",
      "17   Tanjungpinang     1917415                  237          5         1   \n",
      "18  Bandar Lampung     8026191                  227          4         0   \n",
      "19           Ambon     1657409                   34          1         0   \n",
      "20          Sofifi     1138667                   27          1         0   \n",
      "21         Mataram     4773795                  239          2         0   \n",
      "22          Kupang     5036897                  106          0         0   \n",
      "23        Jayapura     3091047                   10          7         0   \n",
      "24       Manokwari      849809                    2          0         0   \n",
      "25       Pekanbaru     6188442                   66          1         0   \n",
      "26          Mamuju     1258090                   75          0         0   \n",
      "27        Makassar     8432163                  183         29         1   \n",
      "28            Palu     2831283                   42          1         0   \n",
      "29         Kendari     2448081                   67          3         0   \n",
      "30          Manado     2386604                  171          2         0   \n",
      "31          Padang     5131900                  121          5         0   \n",
      "32       Palembang     7941500                   93          1         0   \n",
      "33           Medan    13766851                  189          8         1   \n",
      "\n",
      "    released    longitude    latitude  \n",
      "0          0    9.672.895   3.869.994  \n",
      "1          0   11.512.255    -825.731  \n",
      "2          1  106.160.889  -6.315.299  \n",
      "3          0  102.315.674  -3.414.725  \n",
      "4          1  110.390.625  -7.863.382  \n",
      "5         31  106.853.027  -6.162.401  \n",
      "6          0  123.134.766    0.637194  \n",
      "7          0  103.623.047  -1.625.758  \n",
      "8          5  107.633.057  -7.144.499  \n",
      "9          0   11.010.498     -72.099  \n",
      "10         8  112.269.287  -7.525.873  \n",
      "11         0  109.797.363    0.043945  \n",
      "12         0  115.048.828  -3.337.954  \n",
      "13         0  113.818.359  -1.889.306  \n",
      "14         0  116.806.641    0.307616  \n",
      "15         0  116.378.174   3.261.177  \n",
      "16         0  106.100.464  -2.114.388  \n",
      "17         0  104.468.994    0.999705  \n",
      "18         0  105.084.229  -5.222.247  \n",
      "19         0   12.850.708  -3.063.725  \n",
      "20         0  127.683.105    0.736064  \n",
      "21         0  116.444.092  -8.635.334  \n",
      "22         0  123.804.932  -9.774.025  \n",
      "23         0  138.570.557  -3.579.213  \n",
      "24         0  132.659.912  -1.153.487  \n",
      "25         0  101.513.672    0.626208  \n",
      "26         0  119.336.243  -2.361.392  \n",
      "27         0  120.020.142  -4.554.522  \n",
      "28         0  120.039.368   -0.898096  \n",
      "29         0  121.959.229  -3.697.078  \n",
      "30         0  124.725.037   1.277.055  \n",
      "31         0  100.118.408   -0.186767  \n",
      "32         0  104.710.693  -3.107.606  \n",
      "33         0   98.712.158     323.924  \n"
     ]
    }
   ],
   "source": [
    "df2 = pd.read_csv('Data Set 2.csv')\n",
    "print(df2)"
   ]
  },
  {
   "cell_type": "markdown",
   "metadata": {},
   "source": [
    "Soal 4\n",
    "• Hitunglah nilai persentase perbandingan jumlah terkonfirmasi positif terhadap \n",
    "populasi per km2 untuk masing-masing provinsi.\n",
    "• Dengan menggunakan bar plot, tampilkan perbandingan nilai persentase tersebut \n",
    "untuk masing-masing provinsi.\n",
    "• Tampilkan 3 provinsi dengan nilai persentasi terbesar beserta nilai persentasenya."
   ]
  },
  {
   "cell_type": "code",
   "execution_count": 14,
   "metadata": {},
   "outputs": [
    {
     "data": {
      "text/html": [
       "<div>\n",
       "<style scoped>\n",
       "    .dataframe tbody tr th:only-of-type {\n",
       "        vertical-align: middle;\n",
       "    }\n",
       "\n",
       "    .dataframe tbody tr th {\n",
       "        vertical-align: top;\n",
       "    }\n",
       "\n",
       "    .dataframe thead th {\n",
       "        text-align: right;\n",
       "    }\n",
       "</style>\n",
       "<table border=\"1\" class=\"dataframe\">\n",
       "  <thead>\n",
       "    <tr style=\"text-align: right;\">\n",
       "      <th></th>\n",
       "      <th>province_name</th>\n",
       "      <th>confirmed</th>\n",
       "      <th>population_kmsquare</th>\n",
       "    </tr>\n",
       "  </thead>\n",
       "  <tbody>\n",
       "    <tr>\n",
       "      <th>0</th>\n",
       "      <td>Aceh</td>\n",
       "      <td>4</td>\n",
       "      <td>86</td>\n",
       "    </tr>\n",
       "    <tr>\n",
       "      <th>1</th>\n",
       "      <td>Bali</td>\n",
       "      <td>9</td>\n",
       "      <td>738</td>\n",
       "    </tr>\n",
       "    <tr>\n",
       "      <th>2</th>\n",
       "      <td>Banten</td>\n",
       "      <td>84</td>\n",
       "      <td>1298</td>\n",
       "    </tr>\n",
       "    <tr>\n",
       "      <th>3</th>\n",
       "      <td>Bengkulu</td>\n",
       "      <td>0</td>\n",
       "      <td>93</td>\n",
       "    </tr>\n",
       "    <tr>\n",
       "      <th>4</th>\n",
       "      <td>DI Yogyakarta</td>\n",
       "      <td>22</td>\n",
       "      <td>1134</td>\n",
       "    </tr>\n",
       "    <tr>\n",
       "      <th>5</th>\n",
       "      <td>DKI Jakarta</td>\n",
       "      <td>598</td>\n",
       "      <td>1353</td>\n",
       "    </tr>\n",
       "    <tr>\n",
       "      <th>6</th>\n",
       "      <td>Gorontalo</td>\n",
       "      <td>0</td>\n",
       "      <td>93</td>\n",
       "    </tr>\n",
       "    <tr>\n",
       "      <th>7</th>\n",
       "      <td>Jambi</td>\n",
       "      <td>1</td>\n",
       "      <td>63</td>\n",
       "    </tr>\n",
       "    <tr>\n",
       "      <th>8</th>\n",
       "      <td>Jawa Barat</td>\n",
       "      <td>98</td>\n",
       "      <td>1306</td>\n",
       "    </tr>\n",
       "    <tr>\n",
       "      <th>9</th>\n",
       "      <td>Jawa Tengah</td>\n",
       "      <td>43</td>\n",
       "      <td>986</td>\n",
       "    </tr>\n",
       "    <tr>\n",
       "      <th>10</th>\n",
       "      <td>Jawa Timur</td>\n",
       "      <td>66</td>\n",
       "      <td>806</td>\n",
       "    </tr>\n",
       "    <tr>\n",
       "      <th>11</th>\n",
       "      <td>Kalimantan Barat</td>\n",
       "      <td>4</td>\n",
       "      <td>41</td>\n",
       "    </tr>\n",
       "    <tr>\n",
       "      <th>12</th>\n",
       "      <td>Kalimantan Selatan</td>\n",
       "      <td>1</td>\n",
       "      <td>107</td>\n",
       "    </tr>\n",
       "    <tr>\n",
       "      <th>13</th>\n",
       "      <td>Kalimantan Tengah</td>\n",
       "      <td>6</td>\n",
       "      <td>16</td>\n",
       "    </tr>\n",
       "    <tr>\n",
       "      <th>14</th>\n",
       "      <td>Kalimantan Timur</td>\n",
       "      <td>11</td>\n",
       "      <td>17</td>\n",
       "    </tr>\n",
       "    <tr>\n",
       "      <th>15</th>\n",
       "      <td>Kalimantan Utara</td>\n",
       "      <td>0</td>\n",
       "      <td>9</td>\n",
       "    </tr>\n",
       "    <tr>\n",
       "      <th>16</th>\n",
       "      <td>Kepulauan Bangka Belitung</td>\n",
       "      <td>0</td>\n",
       "      <td>82</td>\n",
       "    </tr>\n",
       "    <tr>\n",
       "      <th>17</th>\n",
       "      <td>Kepulauan Riau</td>\n",
       "      <td>5</td>\n",
       "      <td>237</td>\n",
       "    </tr>\n",
       "    <tr>\n",
       "      <th>18</th>\n",
       "      <td>Lampung</td>\n",
       "      <td>4</td>\n",
       "      <td>227</td>\n",
       "    </tr>\n",
       "    <tr>\n",
       "      <th>19</th>\n",
       "      <td>Maluku</td>\n",
       "      <td>1</td>\n",
       "      <td>34</td>\n",
       "    </tr>\n",
       "    <tr>\n",
       "      <th>20</th>\n",
       "      <td>Maluku Utara</td>\n",
       "      <td>1</td>\n",
       "      <td>27</td>\n",
       "    </tr>\n",
       "    <tr>\n",
       "      <th>21</th>\n",
       "      <td>Nusa Tenggara Barat</td>\n",
       "      <td>2</td>\n",
       "      <td>239</td>\n",
       "    </tr>\n",
       "    <tr>\n",
       "      <th>22</th>\n",
       "      <td>Nusa Tenggara Timur</td>\n",
       "      <td>0</td>\n",
       "      <td>106</td>\n",
       "    </tr>\n",
       "    <tr>\n",
       "      <th>23</th>\n",
       "      <td>Papua</td>\n",
       "      <td>7</td>\n",
       "      <td>10</td>\n",
       "    </tr>\n",
       "    <tr>\n",
       "      <th>24</th>\n",
       "      <td>Papua Barat</td>\n",
       "      <td>0</td>\n",
       "      <td>2</td>\n",
       "    </tr>\n",
       "    <tr>\n",
       "      <th>25</th>\n",
       "      <td>Riau</td>\n",
       "      <td>1</td>\n",
       "      <td>66</td>\n",
       "    </tr>\n",
       "    <tr>\n",
       "      <th>26</th>\n",
       "      <td>Sulawesi Barat</td>\n",
       "      <td>0</td>\n",
       "      <td>75</td>\n",
       "    </tr>\n",
       "    <tr>\n",
       "      <th>27</th>\n",
       "      <td>Sulawesi Selatan</td>\n",
       "      <td>29</td>\n",
       "      <td>183</td>\n",
       "    </tr>\n",
       "    <tr>\n",
       "      <th>28</th>\n",
       "      <td>Sulawesi Tengah</td>\n",
       "      <td>1</td>\n",
       "      <td>42</td>\n",
       "    </tr>\n",
       "    <tr>\n",
       "      <th>29</th>\n",
       "      <td>Sulawesi Tenggara</td>\n",
       "      <td>3</td>\n",
       "      <td>67</td>\n",
       "    </tr>\n",
       "    <tr>\n",
       "      <th>30</th>\n",
       "      <td>Sulawesi Utara</td>\n",
       "      <td>2</td>\n",
       "      <td>171</td>\n",
       "    </tr>\n",
       "    <tr>\n",
       "      <th>31</th>\n",
       "      <td>Sumatra Barat</td>\n",
       "      <td>5</td>\n",
       "      <td>121</td>\n",
       "    </tr>\n",
       "    <tr>\n",
       "      <th>32</th>\n",
       "      <td>Sumatra Selatan</td>\n",
       "      <td>1</td>\n",
       "      <td>93</td>\n",
       "    </tr>\n",
       "    <tr>\n",
       "      <th>33</th>\n",
       "      <td>Sumatra Utara</td>\n",
       "      <td>8</td>\n",
       "      <td>189</td>\n",
       "    </tr>\n",
       "  </tbody>\n",
       "</table>\n",
       "</div>"
      ],
      "text/plain": [
       "                province_name  confirmed  population_kmsquare\n",
       "0                        Aceh          4                   86\n",
       "1                        Bali          9                  738\n",
       "2                      Banten         84                 1298\n",
       "3                    Bengkulu          0                   93\n",
       "4               DI Yogyakarta         22                 1134\n",
       "5                 DKI Jakarta        598                 1353\n",
       "6                   Gorontalo          0                   93\n",
       "7                       Jambi          1                   63\n",
       "8                  Jawa Barat         98                 1306\n",
       "9                 Jawa Tengah         43                  986\n",
       "10                 Jawa Timur         66                  806\n",
       "11           Kalimantan Barat          4                   41\n",
       "12         Kalimantan Selatan          1                  107\n",
       "13          Kalimantan Tengah          6                   16\n",
       "14           Kalimantan Timur         11                   17\n",
       "15           Kalimantan Utara          0                    9\n",
       "16  Kepulauan Bangka Belitung          0                   82\n",
       "17             Kepulauan Riau          5                  237\n",
       "18                    Lampung          4                  227\n",
       "19                     Maluku          1                   34\n",
       "20               Maluku Utara          1                   27\n",
       "21        Nusa Tenggara Barat          2                  239\n",
       "22        Nusa Tenggara Timur          0                  106\n",
       "23                      Papua          7                   10\n",
       "24                Papua Barat          0                    2\n",
       "25                       Riau          1                   66\n",
       "26             Sulawesi Barat          0                   75\n",
       "27           Sulawesi Selatan         29                  183\n",
       "28            Sulawesi Tengah          1                   42\n",
       "29          Sulawesi Tenggara          3                   67\n",
       "30             Sulawesi Utara          2                  171\n",
       "31              Sumatra Barat          5                  121\n",
       "32            Sumatra Selatan          1                   93\n",
       "33              Sumatra Utara          8                  189"
      ]
     },
     "execution_count": 14,
     "metadata": {},
     "output_type": "execute_result"
    }
   ],
   "source": [
    "#Data \n",
    "dataset2 = df2.loc[:,['province_name', 'confirmed', 'population_kmsquare' ]]\n",
    "dataset2"
   ]
  },
  {
   "cell_type": "code",
   "execution_count": 15,
   "metadata": {},
   "outputs": [
    {
     "name": "stdout",
     "output_type": "stream",
     "text": [
      "                           confirmed  population_kmsquare\n",
      "province_name                                            \n",
      "Aceh                               4                   86\n",
      "Bali                               9                  738\n",
      "Banten                            84                 1298\n",
      "Bengkulu                           0                   93\n",
      "DI Yogyakarta                     22                 1134\n",
      "DKI Jakarta                      598                 1353\n",
      "Gorontalo                          0                   93\n",
      "Jambi                              1                   63\n",
      "Jawa Barat                        98                 1306\n",
      "Jawa Tengah                       43                  986\n",
      "Jawa Timur                        66                  806\n",
      "Kalimantan Barat                   4                   41\n",
      "Kalimantan Selatan                 1                  107\n",
      "Kalimantan Tengah                  6                   16\n",
      "Kalimantan Timur                  11                   17\n",
      "Kalimantan Utara                   0                    9\n",
      "Kepulauan Bangka Belitung          0                   82\n",
      "Kepulauan Riau                     5                  237\n",
      "Lampung                            4                  227\n",
      "Maluku                             1                   34\n",
      "Maluku Utara                       1                   27\n",
      "Nusa Tenggara Barat                2                  239\n",
      "Nusa Tenggara Timur                0                  106\n",
      "Papua                              7                   10\n",
      "Papua Barat                        0                    2\n",
      "Riau                               1                   66\n",
      "Sulawesi Barat                     0                   75\n",
      "Sulawesi Selatan                  29                  183\n",
      "Sulawesi Tengah                    1                   42\n",
      "Sulawesi Tenggara                  3                   67\n",
      "Sulawesi Utara                     2                  171\n",
      "Sumatra Barat                      5                  121\n",
      "Sumatra Selatan                    1                   93\n",
      "Sumatra Utara                      8                  189\n"
     ]
    }
   ],
   "source": [
    "dataset2.set_index('province_name', inplace=True)\n",
    "print(dataset2)"
   ]
  },
  {
   "cell_type": "code",
   "execution_count": 16,
   "metadata": {},
   "outputs": [
    {
     "data": {
      "text/plain": [
       "province_name\n",
       "Aceh                          4.65\n",
       "Bali                          1.22\n",
       "Banten                        6.47\n",
       "Bengkulu                      0.00\n",
       "DI Yogyakarta                 1.94\n",
       "DKI Jakarta                  44.20\n",
       "Gorontalo                     0.00\n",
       "Jambi                         1.59\n",
       "Jawa Barat                    7.50\n",
       "Jawa Tengah                   4.36\n",
       "Jawa Timur                    8.19\n",
       "Kalimantan Barat              9.76\n",
       "Kalimantan Selatan            0.93\n",
       "Kalimantan Tengah            37.50\n",
       "Kalimantan Timur             64.71\n",
       "Kalimantan Utara              0.00\n",
       "Kepulauan Bangka Belitung     0.00\n",
       "Kepulauan Riau                2.11\n",
       "Lampung                       1.76\n",
       "Maluku                        2.94\n",
       "Maluku Utara                  3.70\n",
       "Nusa Tenggara Barat           0.84\n",
       "Nusa Tenggara Timur           0.00\n",
       "Papua                        70.00\n",
       "Papua Barat                   0.00\n",
       "Riau                          1.52\n",
       "Sulawesi Barat                0.00\n",
       "Sulawesi Selatan             15.85\n",
       "Sulawesi Tengah               2.38\n",
       "Sulawesi Tenggara             4.48\n",
       "Sulawesi Utara                1.17\n",
       "Sumatra Barat                 4.13\n",
       "Sumatra Selatan               1.08\n",
       "Sumatra Utara                 4.23\n",
       "dtype: float64"
      ]
     },
     "execution_count": 16,
     "metadata": {},
     "output_type": "execute_result"
    }
   ],
   "source": [
    "#PERSENTASE\n",
    "konf_covid = dataset2['confirmed']\n",
    "pop_kmsquare = dataset2['population_kmsquare']\n",
    "\n",
    "percentage = (konf_covid/pop_kmsquare).round(4)*100\n",
    "percentage"
   ]
  },
  {
   "cell_type": "code",
   "execution_count": 17,
   "metadata": {},
   "outputs": [
    {
     "data": {
      "image/png": "[encoded data removed]",
      "text/plain": [
       "<Figure size 1080x360 with 1 Axes>"
      ]
     },
     "metadata": {
      "needs_background": "light"
     },
     "output_type": "display_data"
    }
   ],
   "source": [
    "#PERBANDINGAN\n",
    "percentage.plot.bar(stacked=False, figsize=(15,5))\n",
    "\n",
    "plt.title('Perbandingan Kasus COVID-19 di Berbagai Provinsi')\n",
    "plt.xlabel('Provinsi')\n",
    "plt.ylabel('Persentase')\n",
    "plt.show()\n"
   ]
  },
  {
   "cell_type": "code",
   "execution_count": 18,
   "metadata": {},
   "outputs": [
    {
     "data": {
      "text/plain": [
       "province_name\n",
       "Papua               70.00\n",
       "Kalimantan Timur    64.71\n",
       "DKI Jakarta         44.20\n",
       "dtype: float64"
      ]
     },
     "execution_count": 18,
     "metadata": {},
     "output_type": "execute_result"
    }
   ],
   "source": [
    "# 3 provinsi dengan nilai persentasi terbesar beserta nilai persentasenya\n",
    "percentage.sort_values(ascending=False,axis=0,inplace=True)\n",
    "percentage.head(3)"
   ]
  },
  {
   "cell_type": "markdown",
   "metadata": {},
   "source": [
    "Soal 5\n",
    "Dengan menggunakan pie chart, tampilkan persentase jumlah terkonfimasi positif untuk \n",
    "masing-masing pulau."
   ]
  },
  {
   "cell_type": "code",
   "execution_count": 19,
   "metadata": {},
   "outputs": [
    {
     "data": {
      "text/html": [
       "<div>\n",
       "<style scoped>\n",
       "    .dataframe tbody tr th:only-of-type {\n",
       "        vertical-align: middle;\n",
       "    }\n",
       "\n",
       "    .dataframe tbody tr th {\n",
       "        vertical-align: top;\n",
       "    }\n",
       "\n",
       "    .dataframe thead th {\n",
       "        text-align: right;\n",
       "    }\n",
       "</style>\n",
       "<table border=\"1\" class=\"dataframe\">\n",
       "  <thead>\n",
       "    <tr style=\"text-align: right;\">\n",
       "      <th></th>\n",
       "      <th>confirmed</th>\n",
       "    </tr>\n",
       "    <tr>\n",
       "      <th>island</th>\n",
       "      <th></th>\n",
       "    </tr>\n",
       "  </thead>\n",
       "  <tbody>\n",
       "    <tr>\n",
       "      <th>Sumatra</th>\n",
       "      <td>4</td>\n",
       "    </tr>\n",
       "    <tr>\n",
       "      <th>Kepulauan Nusa Tenggara</th>\n",
       "      <td>9</td>\n",
       "    </tr>\n",
       "    <tr>\n",
       "      <th>Jawa</th>\n",
       "      <td>84</td>\n",
       "    </tr>\n",
       "    <tr>\n",
       "      <th>Sumatra</th>\n",
       "      <td>0</td>\n",
       "    </tr>\n",
       "    <tr>\n",
       "      <th>Jawa</th>\n",
       "      <td>22</td>\n",
       "    </tr>\n",
       "  </tbody>\n",
       "</table>\n",
       "</div>"
      ],
      "text/plain": [
       "                         confirmed\n",
       "island                            \n",
       "Sumatra                          4\n",
       "Kepulauan Nusa Tenggara          9\n",
       "Jawa                            84\n",
       "Sumatra                          0\n",
       "Jawa                            22"
      ]
     },
     "execution_count": 19,
     "metadata": {},
     "output_type": "execute_result"
    }
   ],
   "source": [
    "datasetno5 = df2.loc[:,['island','confirmed']]\n",
    "datasetno5.set_index('island', inplace=True)\n",
    "datasetno5.head()"
   ]
  },
  {
   "cell_type": "code",
   "execution_count": 20,
   "metadata": {},
   "outputs": [
    {
     "name": "stdout",
     "output_type": "stream",
     "text": [
      "                         confirmed\n",
      "island                            \n",
      "Jawa                           911\n",
      "Kalimantan                      22\n",
      "Kepulauan Maluku                 2\n",
      "Kepulauan Nusa Tenggara         11\n",
      "Papua                            7\n",
      "Sulawesi                        35\n",
      "Sumatra                         29\n"
     ]
    }
   ],
   "source": [
    "#pie chart persentase positif tiap pulau\n",
    "pie = datasetno5.groupby('island', axis = 0).sum()\n",
    "print(pie)"
   ]
  },
  {
   "cell_type": "code",
   "execution_count": 21,
   "metadata": {},
   "outputs": [
    {
     "name": "stderr",
     "output_type": "stream",
     "text": [
      "No artists with labels found to put in legend.  Note that artists whose label start with an underscore are ignored when legend() is called with no argument.\n"
     ]
    },
    {
     "data": {
      "image/png": "[encoded data removed]",
      "text/plain": [
       "<Figure size 1080x504 with 1 Axes>"
      ]
     },
     "metadata": {},
     "output_type": "display_data"
    }
   ],
   "source": [
    "colour_list = ['red', 'green', 'blue', 'yellow', 'brown', 'orange', 'grey']\n",
    "explode_list = [0.1, 0, 0.2, 0.45, 0.3, 0.1, 0.1]\n",
    "pie.plot(kind='pie',\n",
    "                  figsize = (15, 7),\n",
    "                  autopct = '%1.1f%%', \n",
    "                  startangle = 180,     \n",
    "                  labels = None,\n",
    "                  pctdistance = 1.1,\n",
    "                  subplots = True,\n",
    "                  colors = colour_list,\n",
    "                  explode = explode_list,           \n",
    "                  )\n",
    "\n",
    "plt.title('Persentase Jumlah Terkonfimasi Positif Untuk Masing-Masing Pulau', y= 1.1)\n",
    "plt.axis('equal') \n",
    "plt.legend(labels=pie.index, loc='upper right') \n",
    "plt.show()"
   ]
  }
 ],
 "metadata": {
  "kernelspec": {
   "display_name": "Python 3",
   "language": "python",
   "name": "python3"
  },
  "language_info": {
   "codemirror_mode": {
    "name": "ipython",
    "version": 3
   },
   "file_extension": ".py",
   "mimetype": "text/x-python",
   "name": "python",
   "nbconvert_exporter": "python",
   "pygments_lexer": "ipython3",
   "version": "3.9.5"
  },
  "orig_nbformat": 4,
  "vscode": {
   "interpreter": {
    "hash": "6afad4a83f0b7500b73ec506746ef649d567ad3f6a909f3676413a074eb78b8b"
   }
  }
 },
 "nbformat": 4,
 "nbformat_minor": 2
}
